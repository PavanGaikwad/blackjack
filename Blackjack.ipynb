{
 "metadata": {
  "name": "Blackjack"
 }, 
 "name": "Blackjack", 
 "nbformat": 2, 
 "worksheets": [
  {
   "cells": [
    {
     "cell_type": "code", 
     "collapsed": true, 
     "input": "class Card:\n    suites=['Club','Diamonds','Hearts','Spades']\n    display_values={1:'Ace',11:'Jack',12:'Queen',13:'King'}\n    \n    def __init__(self,value,suite):\n        self._value  = value\n        self._suite  = suite\n    \n    def __str__(self):\n        return '{0} of {1}'. format(self.name(),self.suite())\n        \n    def suite(self):\n        return self.__class__.suites[self._suite]\n    \n    def name(self):\n        if self.__class__.display_values.has_key(self._value):\n            return self.__class__.display_values[self._value]\n        return self._value\n    \n    def value(self):\n        if self._value==1:\n            return [1,10]\n        if self._value>10:\n            return [10]\n        else:\n            return [self._value]\n ", 
     "language": "python", 
     "outputs": [], 
     "prompt_number": 2
    }, 
    {
     "cell_type": "code", 
     "collapsed": false, 
     "input": "from copy import copy\n\nclass Hand:\n    def __init__(self, bet):\n        self._cards = []\n        self._bet = bet\n        \n    def insert(self,card):\n        if card:\n            self._cards.append(card)\n        else:\n            raise AttributeError('None Type passed for Insertion')\n    \n    def _evaluate(self,cards,value):\n        if not cards:\n            if value>21:\n                return -1\n            else:\n                return value\n        current_card = cards.pop()\n        return max( self._evaluate(copy(cards),(value+card_value)) for card_value in current_card.value() )\n    \n    def evaluate(self):\n        return self._evaluate(self._cards,0)\n    \n    def collect_bet(self):\n        amount = self._bet\n        self._bet = 0\n        return amount\n    \n    def __str__(self):\n        hands = ''\n        for card in self._cards:\n            hands = hands + card.__str__()+'\\n'\n        eval  = 'Value : {0}\\nBet : {1}'.format(str(self.evaluate()),self._bet)\n        seperator ='**************************************************'\n        return (hands+'\\n'+eval+'\\n'+seperator+'\\n')\n    \n    \ncards = [Card(11,1),Card(6,1),Card(4,1)]\nhand = Hand(1)\n[hand.insert(card) for card in cards] \nprint hand", 
     "language": "python", 
     "outputs": [
      {
       "output_type": "stream", 
       "stream": "stdout", 
       "text": "Jack of Diamonds\n6 of Diamonds\n4 of Diamonds\n\nValue : 20\nBet : 1\n**************************************************\n"
      }
     ], 
     "prompt_number": 5
    }, 
    {
     "cell_type": "code", 
     "collapsed": true, 
     "input": "import random\nclass Horseshoe:\n    def __init__(self, NUMBER_OF_DECKS):\n        self._shoe = [Card(card_value,card_type) for card_value in xrange(1,14) for card_type in xrange(0,4)]*NUMBER_OF_DECKS\n        self._ground    = []\n        \n        def draw_shoe():\n            while True:\n                while len(self._shoe)>0:\n                    rand_number = random.randint(0,len(self._shoe)-1)\n                    card = self._shoe[rand_number]\n                    del self._shoe[rand_number]\n                    yield card\n                #raise TypeError\n                # We collect all the used cards , reshuffle them and redistribute to continue the game.\n                self._shoe = self._ground\n                self._ground = []\n        drawer = draw_shoe()\n        \n        def draw():\n            return next(drawer)\n        self.draw = draw\n        \n        def collect(card):\n            self._ground.append(card)\n            return self._ground\n        self.collect = collect\n\nhorse = Horseshoe(1)\n                ", 
     "language": "python", 
     "outputs": [], 
     "prompt_number": 18
    }, 
    {
     "cell_type": "code", 
     "collapsed": false, 
     "input": "class Player:\n    def __init__(self, name):\n        self.id = name\n        self.credit = 100\n        self.ptype = 'player'\n    \n    def bet(self,amount):\n        if self.can_bet(amount):\n            self.credit = self.credit - amount\n            return amount\n        else:\n            raise ValueError('Insufficient Credit for the player')\n    \n    def can_bet(self,amount):\n        if amount<self.credit:\n            return True\n        else:\n            return False\n    \n    def collect_bet(self,amount):\n        self.credit = self.credit + amount\n        \n#TODO: Error handling for Negative Amounts passed as parameters\n\nclass Dealer(Player):\n    def __init__(self):\n        self.id = 'dealer'\n        self.credit = float('inf')\n        self.ptype = 'dealer'\n\n#Dealer is not allowed to have infinity as a loss. So we wont our House will always be in finite losses :)\n#Overload method to find out how much profit the House makes in a set of games\n     ", 
     "language": "python", 
     "outputs": [
      {
       "output_type": "pyout", 
       "prompt_number": 24, 
       "text": "False"
      }
     ], 
     "prompt_number": 24
    }, 
    {
     "cell_type": "code", 
     "collapsed": true, 
     "input": "", 
     "language": "python", 
     "outputs": []
    }, 
    {
     "cell_type": "code", 
     "collapsed": true, 
     "input": "class MoveGenerator:\n    def __init__(self):\n        self._get_card = horseshoe_shuffler()\n    \n    def _hit(self,hand):\n        hand.insert(get_card())\n   \n    def _stand(self):\n        pass\n    \n    def generate_possible_methods(self,hand):\n        if hand is None:\n            raise AttributeError('NoneType was passed as Hand Object')\n        value = hand.evaluate()\n        if value<0:\n            yield None\n        else:\n            yield self._hit\n            yield self._stand\n            \nhand = Hand()\nmovegen = MoveGenerator()\n[meth for meth in movegen.generate_possible_methods(hand)]", 
     "language": "python", 
     "outputs": [], 
     "prompt_number": 6
    }
   ]
  }
 ]
}