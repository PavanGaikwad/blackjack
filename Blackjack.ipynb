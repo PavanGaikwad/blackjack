{
 "metadata": {
  "name": "Blackjack"
 }, 
 "name": "Blackjack", 
 "nbformat": 2, 
 "worksheets": [
  {
   "cells": [
    {
     "cell_type": "code", 
     "collapsed": true, 
     "input": "class Card:\n    suites=['Club','Diamonds','Hearts','Spades']\n    display_values={1:'Ace',11:'Jack',12:'Queen',13:'King'}\n    \n    def __init__(self,value,suite):\n        self._value  = value\n        self._suite  = suite\n    \n    def __str__(self):\n        return '{0} of {1}'. format(self.name(),self.suite())\n        \n    def suite(self):\n        return self.__class__.suites[self._suite]\n    \n    def name(self):\n        if self.__class__.display_values.has_key(self._value):\n            return self.__class__.display_values[self._value]\n        return self._value\n    \n    def value(self):\n        if self._value==1:\n            return [1,11]\n        if self._value>10:\n            return [10]\n        else:\n            return [self._value]\n ", 
     "language": "python", 
     "outputs": [], 
     "prompt_number": 64
    }, 
    {
     "cell_type": "code", 
     "collapsed": false, 
     "input": "from copy import copy\n\nclass Hand:\n    def __init__(self, bet):\n        self._cards = []\n        self._bet   = bet\n        self._eval  = 0\n        self._split = True\n        \n    def insert(self,card):\n        if card:\n            self._cards.append(card)\n            self._eval = self.evaluate()\n        else:\n            raise AttributeError('None Type passed for Insertion')\n    \n    def _evaluate(self,cards,value):\n        cards = copy(cards)\n        if not cards:\n            if value>21:\n                return -1\n            else:\n                return value\n        current_card = cards.pop()\n        return max( self._evaluate(cards,(value+card_value)) for card_value in current_card.value() )\n    \n    def evaluate(self):\n        return self._evaluate(self._cards,0)\n    \n    def collect_bet(self):\n        amount = self._bet\n        self._bet = 0\n        return amount\n    \n    def __str__(self):\n        hands = ''\n        for card in self._cards:\n            hands = hands + card.__str__()+'\\n'\n        eval  = 'Value : {0}\\nBet : {1}'.format(str(self.evaluate()),self._bet)\n        seperator ='**************************************************'\n        return (hands+'\\n'+eval+'\\n'+seperator+'\\n')\n    \n    def can_split(self):\n        return self._split\n        \n    def get_bet(self):\n        return self._bet\n        \n    def add_bet(self, more_bet):\n        self.bet += more_bet\n    \nclass SplitHand(Hand):\n    def __init__(self, bet):\n        self._cards = []\n        self._bet   = bet\n        self._eval  = 0\n        self._split = False\n    \ncards = [Card(11,1),Card(6,1),Card(4,1)]\nhand = Hand(1)\n[hand.insert(card) for card in cards] \nprint hand\nhand.insert(Card(1,1))\nprint hand", 
     "language": "python", 
     "outputs": [
      {
       "output_type": "stream", 
       "stream": "stdout", 
       "text": "Jack of Diamonds\n6 of Diamonds\n4 of Diamonds\n\nValue : 20\nBet : 1\n**************************************************\n\nJack of Diamonds\n6 of Diamonds\n4 of Diamonds\nAce of Diamonds\n\nValue : 21\nBet : 1\n**************************************************\n"
      }
     ], 
     "prompt_number": 65
    }, 
    {
     "cell_type": "code", 
     "collapsed": false, 
     "input": "import random\nclass Horseshoe:\n    def __init__(self, NUMBER_OF_DECKS):\n        self._shoe = [Card(card_value,card_type) for card_value in xrange(1,14) for card_type in xrange(0,4)]*NUMBER_OF_DECKS\n        self._ground    = []\n        \n        def draw_shoe():\n            while True:\n                while len(self._shoe)>0:\n                    rand_number = random.randint(0,len(self._shoe)-1)\n                    card = self._shoe[rand_number]\n                    del self._shoe[rand_number]\n                    yield card\n                #raise TypeError\n                # We collect all the used cards , reshuffle them and redistribute to continue the game.\n                self._shoe = self._ground\n                self._ground = []\n        drawer = draw_shoe()\n        \n        def draw():\n            return next(drawer)\n        self.draw = draw\n        \n        def collect(card):\n            self._ground.append(card)\n            return self._ground\n        self.collect = collect\n\nhorse = Horseshoe(1)\nprint horse.draw()\nprint horse.draw()\n                ", 
     "language": "python", 
     "outputs": [
      {
       "output_type": "stream", 
       "stream": "stdout", 
       "text": "2 of Spades\n4 of Spades"
      }
     ], 
     "prompt_number": 66
    }, 
    {
     "cell_type": "code", 
     "collapsed": true, 
     "input": "class Player:\n    def __init__(self, name):\n        self.id = name\n        self.credit = 100\n        self.ptype = 'player'\n    \n    def bet(self,amount):\n        if self.can_bet(amount):\n            self.credit = self.credit - amount\n            return amount\n        else:\n            raise ValueError('Insufficient Credit for the player')\n    \n    def can_bet(self,amount):\n        if amount<self.credit:\n            return True\n        else:\n            return False\n    \n    def collect_bet(self,amount):\n        self.credit = self.credit + amount\n        \n#TODO: Error handling for Negative Amounts passed as parameters\n\nclass Dealer(Player):\n    def __init__(self):\n        self.id = 'dealer'\n        self.credit = float('inf')\n        self.ptype = 'dealer'\n\n#Dealer is not allowed to have infinity as a loss. So we wont our House will always be in finite losses :)\n#Overload method to find out how much profit the House makes in a set of games\n     ", 
     "language": "python", 
     "outputs": [], 
     "prompt_number": 67
    }, 
    {
     "cell_type": "code", 
     "collapsed": false, 
     "input": "class Board:\n    def __init__(self, PLAYER_COUNT=1, NUMBER_OF_DECKS=2, MINIMUM_BET=1):\n        self._dealer = Dealer()\n        self._players = [Player(x) for x in xrange(PLAYER_COUNT)]\n        self._shoe = Horseshoe(NUMBER_OF_DECKS)\n        self._MINIMUM_BET = MINIMUM_BET\n        sel._move_generator = MoveGenerator(self._shoe)\n    \n    def play(self):\n        players = self._players\n        shoe = self._shoe\n        #movegen = MoveGenerator(shoe)\n                    \n        while True:\n            if players:\n                eliminated_players =  [ players.pop(x) for x in xrange( len(players) ) if not players[x].can_bet(self._MINIMUM_BET) ]\n                if eliminated_players:\n                    print 'Following players cannot bet any further here and are removed from the table:\\n{0}'.format(eliminated_players)\n                    pass\n                else:\n                    #Collect bets from each player\n                    bets = self._collect_bets(players)\n                    \n                    #Initialize them a hand for the bet they made\n                    hands = [ [player,Hand(bet)] for player, bet in zip(players, bets) ]\n                    dealer_hand = Hand(0)\n                    \n                    #Serve them their first card\n                    [hand.insert(shoe.draw()) for player,hand in hands]\n                    #Serve the dealer the first card\n                    #TODO When we have limits for dealer, break conditions here\n                    dealer_hand.insert(shoe.draw())\n                    \n                    #Print state for each player\n                    \n                    #Serve them their second card\n                    [hand.insert(shoe.draw()) for player,hand in hands]\n                    dealer_hand.insert(shoe.draw())\n                    \n                    final_hands =[]\n                    \n                    for player,hand in hands: \n                        list1 = self._user_action(player,hand)\n                        [final_hands.append(final_hand) for final_hand in list1]\n                        \n                        \n                         \n                    #Print state again here\n                    \n                    \n            else:\n                print 'Table is now empty. Now closing the table.'\n                break\n    \n    def _collect_bets(self,players):\n        bets = []\n        for player in players:\n            while True:\n                try:\n                    #suggested_bet = int(raw_input(\"Hello Player {0}. Please input your bet ( Positive and >{1} )\".format(player.id,  self._MINIMUM_BET)))\n                    suggested_bet = 10\n                    if suggested_bet<0 or not player.can_bet(suggested_bet):\n                        raise ValueError\n                        #pass\n                    else:\n                        bets.append(player.bet(suggested_bet))\n                        break\n                except ValueError:\n                    raise ValueError#pass\n        return bets\n    \n'''\nMethod abstracts interacts with the user for actions\n'''\n    def _user_action(self,player,hand):\n        try:\n            while True:\n                methods = [meth for meth in movegen.generate_possible_methods(player,hand)]\n                #print methods and take input from user to invoke appropriate method\n                print 'What do you want to do?\\n'\n                i=0\n                for method_name, method in methods:\n                    print '{0} : {1}'.format(i,method_name)\n                    i+=1\n                choice = -1\n                while choice<0:\n                    try:\n                        #input = int(raw_input(\"Please select the action_number : \"))\n                        input = 0\n                        if input in range(len(methods)):\n                            choice = input\n                    except ValueError:\n                        \n                temp = methods[choice][1](player,hand)\n                \n                #Busted\n                if hand._eval<0:\n                    raise StopIteration\n                #Only Split returns a value. rest are silent and do not return\n                if temp:\n                    split_list = []\n                    for split_hand in temp:\n                        self._user_action(player,split_hand)\n                        split_list.append([player,split_hand])\n         except StopIteration:\n                    return [[player, hand]]\n    \nboard = Board()\nboard.play()", 
     "language": "python", 
     "outputs": [
      {
       "ename": "ValueError", 
       "evalue": "", 
       "output_type": "pyerr", 
       "traceback": [
        "\u001b[0;31m---------------------------------------------------------------------------\u001b[0m\n\u001b[0;31mValueError\u001b[0m                                Traceback (most recent call last)", 
        "\u001b[0;32m/home/darshan/<ipython-input-71-3a22e1361594>\u001b[0m in \u001b[0;36m<module>\u001b[0;34m()\u001b[0m\n\u001b[1;32m     68\u001b[0m \u001b[0;34m\u001b[0m\u001b[0m\n\u001b[1;32m     69\u001b[0m \u001b[0mboard\u001b[0m \u001b[0;34m=\u001b[0m \u001b[0mBoard\u001b[0m\u001b[0;34m(\u001b[0m\u001b[0;34m)\u001b[0m\u001b[0;34m\u001b[0m\u001b[0m\n\u001b[0;32m---> 70\u001b[0;31m \u001b[0mboard\u001b[0m\u001b[0;34m.\u001b[0m\u001b[0mplay\u001b[0m\u001b[0;34m(\u001b[0m\u001b[0;34m)\u001b[0m\u001b[0;34m\u001b[0m\u001b[0m\n\u001b[0m", 
        "\u001b[0;32m/home/darshan/<ipython-input-71-3a22e1361594>\u001b[0m in \u001b[0;36mplay\u001b[0;34m(self)\u001b[0m\n\u001b[1;32m     19\u001b[0m                 \u001b[0;32melse\u001b[0m\u001b[0;34m:\u001b[0m\u001b[0;34m\u001b[0m\u001b[0m\n\u001b[1;32m     20\u001b[0m                     \u001b[0;31m#Collect bets from each player\u001b[0m\n\u001b[0;34m\u001b[0m\u001b[0m\n\u001b[0;32m---> 21\u001b[0;31m                     \u001b[0mbets\u001b[0m \u001b[0;34m=\u001b[0m \u001b[0mself\u001b[0m\u001b[0;34m.\u001b[0m\u001b[0m_collect_bets\u001b[0m\u001b[0;34m(\u001b[0m\u001b[0mplayers\u001b[0m\u001b[0;34m)\u001b[0m\u001b[0;34m\u001b[0m\u001b[0m\n\u001b[0m\u001b[1;32m     22\u001b[0m \u001b[0;34m\u001b[0m\u001b[0m\n\u001b[1;32m     23\u001b[0m                     \u001b[0;31m#Initialize them a hand for the bet they made\u001b[0m\n\u001b[0;34m\u001b[0m\u001b[0m\n", 
        "\u001b[0;32m/home/darshan/<ipython-input-71-3a22e1361594>\u001b[0m in \u001b[0;36m_collect_bets\u001b[0;34m(self, players)\u001b[0m\n\u001b[1;32m     63\u001b[0m                         \u001b[0;32mbreak\u001b[0m\u001b[0;34m\u001b[0m\u001b[0m\n\u001b[1;32m     64\u001b[0m                 \u001b[0;32mexcept\u001b[0m \u001b[0mValueError\u001b[0m\u001b[0;34m:\u001b[0m\u001b[0;34m\u001b[0m\u001b[0m\n\u001b[0;32m---> 65\u001b[0;31m                     \u001b[0;32mraise\u001b[0m \u001b[0mValueError\u001b[0m\u001b[0;31m#pass\u001b[0m\u001b[0;34m\u001b[0m\u001b[0m\n\u001b[0m\u001b[1;32m     66\u001b[0m         \u001b[0;32mreturn\u001b[0m \u001b[0mbets\u001b[0m\u001b[0;34m\u001b[0m\u001b[0m\n\u001b[1;32m     67\u001b[0m \u001b[0;34m\u001b[0m\u001b[0m\n", 
        "\u001b[0;31mValueError\u001b[0m: "
       ]
      }, 
      {
       "output_type": "stream", 
       "stream": "stdout", 
       "text": "Jack of Hearts\nAce of Diamonds\nAce of Hearts\n\nValue : 21\nBet : 10\n**************************************************\n\n3 of Spades\n4 of Club\n8 of Spades\n\nValue : 15\nBet : 10\n**************************************************\n\n3 of Club\n4 of Diamonds\nKing of Hearts\n\nValue : 17\nBet : 10\n**************************************************\n\n6 of Club\nJack of Spades\n4 of Hearts\n\nValue : 20\nBet : 10\n**************************************************\n\n5 of Hearts\nQueen of Hearts\nJack of Diamonds\n\nValue : -1\nBet : 10\n**************************************************\n\nAce of Spades\n6 of Hearts\nQueen of Spades\n\nValue : 17\nBet : 10\n**************************************************\n\n6 of Hearts\nAce of Spades\n8 of Club\n\nValue : 15\nBet : 10\n**************************************************\n\n6 of Diamonds\n9 of Hearts\nJack of Spades\n\nValue : -1\nBet : 10\n**************************************************\n\n8 of Hearts\n9 of Club\n7 of Hearts\n\nValue : -1\nBet : 10\n**************************************************\n"
      }
     ], 
     "prompt_number": 71
    }, 
    {
     "cell_type": "code", 
     "collapsed": false, 
     "input": "class MoveGenerator:\n    def __init__(self,shoe):\n        self._shoe = shoe\n    \n    def _hit(self,player,hand):\n        hand.insert(self._shoe.draw())\n   \n    def _stand(self,player, hand):\n        raise StopIteration\n    \n    def _split(self,player,hand):\n        \n        hand1 = SplitHand(hand.get_bet())\n        hand1.insert(hand._cards[0])\n        \n        hand2 = SplitHand(player.bet(hand.get_bet()))\n        hand2.insert(hand._cards[1])\n        \n        return [hand1, hand2]\n    \n    def _double(self,player,hand):\n        hand.set_can_double(False)\n        hand.add_bet(player.bet(hand.get_bet()))\n        self.hit(player,hand)\n        \n    \n    def generate_possible_methods(self,player,hand):\n        if hand is None:\n            raise AttributeError('NoneType was passed as Hand Object')\n        value = hand._eval\n        if value<0:\n            yield None\n        else:\n            yield ['Hit',self._hit]\n            yield ['Stand',self._stand]\n            if player.can_bet(hand.get_bet() and hand.can_double()):\n                yield ['DoubleDown',self._double]\n            if len(hand._cards) is 2 and hand.can_split() and hand._cards[0]._value == hand._cards[1]._value and player.can_bet(hand.get_bet()):\n                yield ['Split',self._split]\n            \n            \n                \nplayer = Player(1)            \nhand = Hand(10)\nshoe = Horseshoe(2)\nhand.insert(Card(3,3))\nhand.insert(Card(3,3))\n\nprint hand\nmovegen = MoveGenerator(shoe)\nmethods = [meth for meth in movegen.generate_possible_methods(player,hand)]\nprint methods\nfor hand in  methods[3][1]():\n    print hand\n    \nplayer.credit", 
     "language": "python", 
     "outputs": [
      {
       "ename": "TypeError", 
       "evalue": "_split() takes exactly 2 arguments (1 given)", 
       "output_type": "pyerr", 
       "traceback": [
        "\u001b[0;31m---------------------------------------------------------------------------\u001b[0m\n\u001b[0;31mTypeError\u001b[0m                                 Traceback (most recent call last)", 
        "\u001b[0;32m/home/darshan/<ipython-input-74-fa678e8f6431>\u001b[0m in \u001b[0;36m<module>\u001b[0;34m()\u001b[0m\n\u001b[1;32m     50\u001b[0m \u001b[0mmethods\u001b[0m \u001b[0;34m=\u001b[0m \u001b[0;34m[\u001b[0m\u001b[0mmeth\u001b[0m \u001b[0;32mfor\u001b[0m \u001b[0mmeth\u001b[0m \u001b[0;32min\u001b[0m \u001b[0mmovegen\u001b[0m\u001b[0;34m.\u001b[0m\u001b[0mgenerate_possible_methods\u001b[0m\u001b[0;34m(\u001b[0m\u001b[0mplayer\u001b[0m\u001b[0;34m,\u001b[0m\u001b[0mhand\u001b[0m\u001b[0;34m)\u001b[0m\u001b[0;34m]\u001b[0m\u001b[0;34m\u001b[0m\u001b[0m\n\u001b[1;32m     51\u001b[0m \u001b[0;32mprint\u001b[0m \u001b[0mmethods\u001b[0m\u001b[0;34m\u001b[0m\u001b[0m\n\u001b[0;32m---> 52\u001b[0;31m \u001b[0;32mfor\u001b[0m \u001b[0mhand\u001b[0m \u001b[0;32min\u001b[0m  \u001b[0mmethods\u001b[0m\u001b[0;34m[\u001b[0m\u001b[0;36m3\u001b[0m\u001b[0;34m]\u001b[0m\u001b[0;34m[\u001b[0m\u001b[0;36m1\u001b[0m\u001b[0;34m]\u001b[0m\u001b[0;34m(\u001b[0m\u001b[0;34m)\u001b[0m\u001b[0;34m:\u001b[0m\u001b[0;34m\u001b[0m\u001b[0m\n\u001b[0m\u001b[1;32m     53\u001b[0m     \u001b[0;32mprint\u001b[0m \u001b[0mhand\u001b[0m\u001b[0;34m\u001b[0m\u001b[0m\n\u001b[1;32m     54\u001b[0m \u001b[0;34m\u001b[0m\u001b[0m\n", 
        "\u001b[0;31mTypeError\u001b[0m: _split() takes exactly 2 arguments (1 given)"
       ]
      }, 
      {
       "output_type": "stream", 
       "stream": "stdout", 
       "text": "3 of Spades\n3 of Spades\n\nValue : 6\nBet : 10\n**************************************************\n\n[['Hit', <bound method MoveGenerator._hit of <__main__.MoveGenerator instance at 0x32d57e8>>], ['Stand', <bound method MoveGenerator._stand of <__main__.MoveGenerator instance at 0x32d57e8>>], ['Double', <bound method MoveGenerator._double of <__main__.MoveGenerator instance at 0x32d57e8>>], ['Split', <bound method MoveGenerator._split of <__main__.MoveGenerator instance at 0x32d57e8>>]]"
      }
     ], 
     "prompt_number": 74
    }
   ]
  }
 ]
}